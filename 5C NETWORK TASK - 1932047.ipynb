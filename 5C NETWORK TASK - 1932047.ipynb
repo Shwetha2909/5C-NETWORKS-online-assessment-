{
 "cells": [
  {
   "cell_type": "code",
   "execution_count": 157,
   "id": "f9d192d2",
   "metadata": {},
   "outputs": [],
   "source": [
    "import pandas as pd\n",
    "import numpy as np\n",
    "import matplotlib.pyplot as plt\n",
    "import seaborn as sns\n",
    "from matplotlib.dates import DateFormatter\n",
    "import mplfinance as mpf"
   ]
  },
  {
   "cell_type": "code",
   "execution_count": 158,
   "id": "6ef82db7",
   "metadata": {},
   "outputs": [
    {
     "data": {
      "text/html": [
       "<div>\n",
       "<style scoped>\n",
       "    .dataframe tbody tr th:only-of-type {\n",
       "        vertical-align: middle;\n",
       "    }\n",
       "\n",
       "    .dataframe tbody tr th {\n",
       "        vertical-align: top;\n",
       "    }\n",
       "\n",
       "    .dataframe thead th {\n",
       "        text-align: right;\n",
       "    }\n",
       "</style>\n",
       "<table border=\"1\" class=\"dataframe\">\n",
       "  <thead>\n",
       "    <tr style=\"text-align: right;\">\n",
       "      <th></th>\n",
       "      <th>Date</th>\n",
       "      <th>Firm bought from</th>\n",
       "      <th>Buying price</th>\n",
       "      <th>Customer</th>\n",
       "      <th>Selling price</th>\n",
       "      <th>Quantity sold</th>\n",
       "    </tr>\n",
       "  </thead>\n",
       "  <tbody>\n",
       "    <tr>\n",
       "      <th>0</th>\n",
       "      <td>21/08/23</td>\n",
       "      <td>Vendor6</td>\n",
       "      <td>72.11</td>\n",
       "      <td>Customer7</td>\n",
       "      <td>91.58</td>\n",
       "      <td>44</td>\n",
       "    </tr>\n",
       "    <tr>\n",
       "      <th>1</th>\n",
       "      <td>21/08/23</td>\n",
       "      <td>Vendor4</td>\n",
       "      <td>75.08</td>\n",
       "      <td>Customer7</td>\n",
       "      <td>83.71</td>\n",
       "      <td>17</td>\n",
       "    </tr>\n",
       "    <tr>\n",
       "      <th>2</th>\n",
       "      <td>21/08/23</td>\n",
       "      <td>Vendor7</td>\n",
       "      <td>83.93</td>\n",
       "      <td>Customer2</td>\n",
       "      <td>103.76</td>\n",
       "      <td>15</td>\n",
       "    </tr>\n",
       "    <tr>\n",
       "      <th>3</th>\n",
       "      <td>21/08/23</td>\n",
       "      <td>Vendor7</td>\n",
       "      <td>52.01</td>\n",
       "      <td>Customer3</td>\n",
       "      <td>64.53</td>\n",
       "      <td>7</td>\n",
       "    </tr>\n",
       "    <tr>\n",
       "      <th>4</th>\n",
       "      <td>21/08/23</td>\n",
       "      <td>Vendor2</td>\n",
       "      <td>98.91</td>\n",
       "      <td>Customer5</td>\n",
       "      <td>140.92</td>\n",
       "      <td>1</td>\n",
       "    </tr>\n",
       "  </tbody>\n",
       "</table>\n",
       "</div>"
      ],
      "text/plain": [
       "       Date Firm bought from  Buying price   Customer  Selling price  \\\n",
       "0  21/08/23          Vendor6         72.11  Customer7          91.58   \n",
       "1  21/08/23          Vendor4         75.08  Customer7          83.71   \n",
       "2  21/08/23          Vendor7         83.93  Customer2         103.76   \n",
       "3  21/08/23          Vendor7         52.01  Customer3          64.53   \n",
       "4  21/08/23          Vendor2         98.91  Customer5         140.92   \n",
       "\n",
       "   Quantity sold  \n",
       "0             44  \n",
       "1             17  \n",
       "2             15  \n",
       "3              7  \n",
       "4              1  "
      ]
     },
     "execution_count": 158,
     "metadata": {},
     "output_type": "execute_result"
    }
   ],
   "source": [
    "data = pd.read_csv(r'C:\\Users\\Admin\\Documents\\sales_data_1_5C.csv')\n",
    "data.head()"
   ]
  },
  {
   "cell_type": "code",
   "execution_count": 159,
   "id": "4298633e",
   "metadata": {},
   "outputs": [
    {
     "data": {
      "text/plain": [
       "(70, 6)"
      ]
     },
     "execution_count": 159,
     "metadata": {},
     "output_type": "execute_result"
    }
   ],
   "source": [
    "data.shape"
   ]
  },
  {
   "cell_type": "code",
   "execution_count": 160,
   "id": "1df752cd",
   "metadata": {
    "scrolled": true
   },
   "outputs": [
    {
     "data": {
      "text/plain": [
       "Date                0\n",
       "Firm bought from    0\n",
       "Buying price        0\n",
       "Customer            0\n",
       "Selling price       0\n",
       "Quantity sold       0\n",
       "dtype: int64"
      ]
     },
     "execution_count": 160,
     "metadata": {},
     "output_type": "execute_result"
    }
   ],
   "source": [
    "data.isnull().sum()"
   ]
  },
  {
   "cell_type": "markdown",
   "id": "3ceb103c",
   "metadata": {},
   "source": [
    "### 1. What is their overall gross margin for their business?"
   ]
  },
  {
   "cell_type": "code",
   "execution_count": 167,
   "id": "623cbac4",
   "metadata": {},
   "outputs": [
    {
     "name": "stdout",
     "output_type": "stream",
     "text": [
      "Overall Gross Margin: 32.69%\n"
     ]
    }
   ],
   "source": [
    "# Calculate Total Revenue\n",
    "data['Revenue'] = data['Selling price'] * data['Quantity sold']\n",
    "total_revenue = data['Revenue'].sum()\n",
    "\n",
    "# Calculate Total Cost\n",
    "data['Cost'] = data['Buying price'] * data['Quantity sold']\n",
    "total_cost = data['Cost'].sum()\n",
    "\n",
    "# Calculate Overall Gross Margin\n",
    "overall_gross_margin = ((total_revenue - total_cost) / total_cost)\n",
    "\n",
    "print(\"Overall Gross Margin: {:.2%}\".format(overall_gross_margin))"
   ]
  },
  {
   "cell_type": "code",
   "execution_count": 153,
   "id": "f6f8405c",
   "metadata": {},
   "outputs": [
    {
     "data": {
      "image/png": "[encoded data removed]",
      "text/plain": [
       "<Figure size 576x576 with 1 Axes>"
      ]
     },
     "metadata": {},
     "output_type": "display_data"
    }
   ],
   "source": [
    "labels = ['Revenue', 'Cost', 'Profit']\n",
    "sizes = [total_revenue, total_cost, total_revenue - total_cost]\n",
    "colors = ['lightgreen', 'lightcoral', 'lightblue']\n",
    "explode = (0, 0.1, 0)  \n",
    "\n",
    "plt.figure(figsize=(8, 8))\n",
    "plt.pie(sizes, labels=labels, colors=colors, explode=explode, autopct='%1.1f%%', shadow=True, startangle=140)\n",
    "plt.title('Overall Gross Margin Composition')\n",
    "plt.axis('equal')  \n",
    "\n",
    "plt.show()"
   ]
  },
  {
   "cell_type": "markdown",
   "id": "4a7a9509",
   "metadata": {},
   "source": [
    "#### Inference\n",
    "The output indicates that the overall gross margin for the branch is 32.69%. This means that, on average, the branch is making a profit of 32.69% on the Sapota products it sells. In other words, for every Rs. 100 of cost, the branch generates Rs. 132.69 in revenue, resulting in a profit of Rs. 32.69.\n",
    "\n",
    "Profitability: The branch is generally profitable, with a gross margin percentage well above zero. This suggests that their business model is successful in generating profit from their operations."
   ]
  },
  {
   "cell_type": "markdown",
   "id": "238ddfde",
   "metadata": {},
   "source": [
    "### 2. Which vendor is the most profitable?"
   ]
  },
  {
   "cell_type": "code",
   "execution_count": 31,
   "id": "e3578de2",
   "metadata": {},
   "outputs": [
    {
     "name": "stdout",
     "output_type": "stream",
     "text": [
      "The most profitable vendor is 'Vendor7' with a total profit of 224.98\n"
     ]
    }
   ],
   "source": [
    "# Calculate Profit for each transaction\n",
    "data['Profit'] = data['Selling price'] - data['Buying price']\n",
    "\n",
    "vendor_profit = data.groupby('Firm bought from')['Profit'].sum()\n",
    "\n",
    "# Find the vendor with the highest profit\n",
    "most_profitable_vendor = vendor_profit.idxmax()\n",
    "highest_profit = vendor_profit.max()\n",
    "\n",
    "print(\"The most profitable vendor is '{}' with a total profit of {:.2f}\".format(most_profitable_vendor, highest_profit))"
   ]
  },
  {
   "cell_type": "code",
   "execution_count": 65,
   "id": "539200ed",
   "metadata": {},
   "outputs": [
    {
     "data": {
      "image/png": "[encoded data removed]",
      "text/plain": [
       "<Figure size 720x432 with 1 Axes>"
      ]
     },
     "metadata": {
      "needs_background": "light"
     },
     "output_type": "display_data"
    }
   ],
   "source": [
    "dark_pastel_palette = sns.color_palette(\"dark:salmon\")\n",
    "\n",
    "plt.figure(figsize=(10, 6))\n",
    "plt.bar(vendor_profit.index, vendor_profit.values, color=dark_pastel_palette)\n",
    "plt.xlabel('Vendor')\n",
    "plt.ylabel('Total Profit')\n",
    "plt.title('Total Profit by Vendor')\n",
    "plt.xticks(rotation=45)\n",
    "plt.tight_layout()\n",
    "\n",
    "plt.annotate(f\"Most Profitable: {most_profitable_vendor}\\nProfit: ${highest_profit:.2f}\", \n",
    "             xy=(most_profitable_vendor, highest_profit), xytext=(1, 150),\n",
    "             textcoords='offset points',\n",
    "             arrowprops=dict(arrowstyle=\"->\"))\n",
    "\n",
    "plt.show()"
   ]
  },
  {
   "cell_type": "markdown",
   "id": "f5313d7f",
   "metadata": {},
   "source": [
    "#### Inference:\n",
    "\n",
    "The analysis reveals that 'Vendor7' is the most profitable among all the vendors. \n",
    "This vendor has generated the highest total profit of $224.98 for SYA during the specified period.\n",
    "This suggests that 'Vendor7' is a significant contributor to the company's overall profitability. \n",
    "SYA may want to continue building a strong relationship with 'Vendor7' or consider strategies to expand its business with this vendor further."
   ]
  },
  {
   "cell_type": "markdown",
   "id": "88575620",
   "metadata": {},
   "source": [
    "### 3. Which customer is the least profitable?"
   ]
  },
  {
   "cell_type": "code",
   "execution_count": 23,
   "id": "d764d717",
   "metadata": {},
   "outputs": [
    {
     "name": "stdout",
     "output_type": "stream",
     "text": [
      "The least profitable customer is 'Customer9' with a total profit of 57.62\n"
     ]
    }
   ],
   "source": [
    "customer_profit = data.groupby('Customer')['Profit'].sum()\n",
    "\n",
    "# Find the customer with the lowest profit\n",
    "least_profitable_customer = customer_profit.idxmin()\n",
    "lowest_profit = customer_profit.min()\n",
    "\n",
    "print(\"The least profitable customer is '{}' with a total profit of {:.2f}\".format(least_profitable_customer, lowest_profit))"
   ]
  },
  {
   "cell_type": "code",
   "execution_count": 96,
   "id": "3c3b7cf5",
   "metadata": {},
   "outputs": [
    {
     "data": {
      "image/png": "[encoded data removed]",
      "text/plain": [
       "<Figure size 720x432 with 1 Axes>"
      ]
     },
     "metadata": {
      "needs_background": "light"
     },
     "output_type": "display_data"
    }
   ],
   "source": [
    "custom_dark_pastel_palette = sns.color_palette(\"autumn\")\n",
    "\n",
    "plt.figure(figsize=(10, 6))\n",
    "plt.bar(customer_profit.index, customer_profit.values, color=custom_dark_pastel_palette)\n",
    "plt.xlabel('Customer')\n",
    "plt.ylabel('Total Profit')\n",
    "plt.title('Total Profit by Customer')\n",
    "plt.xticks(rotation=45)\n",
    "plt.tight_layout()\n",
    "\n",
    "plt.annotate(f\"Least Profitable: {least_profitable_customer}\\nLoss: ${abs(lowest_profit):.2f}\", \n",
    "             xy=(least_profitable_customer, lowest_profit), xytext=(1, 150),\n",
    "             textcoords='offset points',\n",
    "             arrowprops=dict(arrowstyle=\"->\"))\n",
    "\n",
    "plt.show()"
   ]
  },
  {
   "cell_type": "markdown",
   "id": "f7938fff",
   "metadata": {},
   "source": [
    "#### Inference:\n",
    "\n",
    "The analysis indicates that 'Customer9' is the least profitable among all the customers. This customer has generated the highest loss (negative profit) of $57.62 for SYA during the specified period.\n",
    "It's essential for SYA to further examine their relationship with 'Customer9' and the specific transactions with this customer. They may need to consider strategies to either improve the profitability of this customer or, if not feasible, manage their relationship differently."
   ]
  },
  {
   "cell_type": "markdown",
   "id": "0c40a8f3",
   "metadata": {},
   "source": [
    "### 4. Which day of the week was most profitable for them?"
   ]
  },
  {
   "cell_type": "code",
   "execution_count": 84,
   "id": "7803249e",
   "metadata": {},
   "outputs": [
    {
     "name": "stdout",
     "output_type": "stream",
     "text": [
      "The most profitable day of the week was 'Monday' with a total profit of 222.88\n"
     ]
    }
   ],
   "source": [
    "data['Date'] = pd.to_datetime(data['Date'])\n",
    "data['Day_of_Week'] = data['Date'].dt.dayofweek\n",
    "\n",
    "day_profit = data.groupby('Day_of_Week')['Profit'].sum()\n",
    "\n",
    "# Find the day of the week with the highest total profit\n",
    "most_profitable_day = day_profit.idxmax()\n",
    "\n",
    "day_name = {0: 'Monday', 1: 'Tuesday', 2: 'Wednesday', 3: 'Thursday', 4: 'Friday', 5: 'Saturday', 6: 'Sunday'}\n",
    "most_profitable_day_name = day_name[most_profitable_day]\n",
    "\n",
    "print(\"The most profitable day of the week was '{}' with a total profit of {:.2f}\".format(most_profitable_day_name, \n",
    "                                                                                          day_profit[most_profitable_day]))"
   ]
  },
  {
   "cell_type": "code",
   "execution_count": 85,
   "id": "222db821",
   "metadata": {},
   "outputs": [
    {
     "data": {
      "image/png": "[encoded data removed]",
      "text/plain": [
       "<Figure size 720x432 with 1 Axes>"
      ]
     },
     "metadata": {
      "needs_background": "light"
     },
     "output_type": "display_data"
    }
   ],
   "source": [
    "plt.figure(figsize=(10, 6))\n",
    "sns.lineplot(data=day_profit, markers=True)\n",
    "plt.xlabel('Day of the Week')\n",
    "plt.ylabel('Total Profit')\n",
    "plt.title('Total Profit by Day of the Week')\n",
    "plt.xticks(range(7), [day_name[day] for day in range(7)])\n",
    "plt.tight_layout()\n",
    "\n",
    "plt.show()"
   ]
  },
  {
   "cell_type": "markdown",
   "id": "f1eab600",
   "metadata": {},
   "source": [
    "#### Inference:\n",
    "\n",
    "Based on the analysis, Monday stands out as the most profitable day of the week for SYA. On this day, the company generated the highest total profit of $222.88.\n",
    "This information can help SYA in several ways. They may want to allocate more resources or focus their marketing and sales efforts on Mondays to maximize profitability. Additionally, understanding the most profitable day of the week can assist in inventory management and staffing decisions."
   ]
  },
  {
   "cell_type": "markdown",
   "id": "90658c16",
   "metadata": {},
   "source": [
    "### 5. Which day of the week was the least profitable for them?"
   ]
  },
  {
   "cell_type": "code",
   "execution_count": 25,
   "id": "52a76792",
   "metadata": {},
   "outputs": [
    {
     "name": "stdout",
     "output_type": "stream",
     "text": [
      "The least profitable day of the week was 'Thursday' with a total profit of 116.69\n"
     ]
    }
   ],
   "source": [
    "# Find the day of the week with the lowest total profit\n",
    "least_profitable_day = day_profit.idxmin()\n",
    "\n",
    "day_name = {0: 'Monday', 1: 'Tuesday', 2: 'Wednesday', 3: 'Thursday', 4: 'Friday', 5: 'Saturday', 6: 'Sunday'}\n",
    "least_profitable_day_name = day_name[least_profitable_day]\n",
    "\n",
    "print(\"The least profitable day of the week was '{}' with a total profit of {:.2f}\".format(least_profitable_day_name, \n",
    "                                                                                           day_profit[least_profitable_day]))"
   ]
  },
  {
   "cell_type": "code",
   "execution_count": 118,
   "id": "2cd68d98",
   "metadata": {},
   "outputs": [
    {
     "data": {
      "image/png": "[encoded data removed]",
      "text/plain": [
       "<Figure size 720x432 with 1 Axes>"
      ]
     },
     "metadata": {
      "needs_background": "light"
     },
     "output_type": "display_data"
    }
   ],
   "source": [
    "plt.figure(figsize=(10, 6))\n",
    "day_profit.reindex(['Monday', 'Tuesday', 'Wednesday', 'Thursday', 'Friday', 'Saturday', 'Sunday'])\\\n",
    "    .plot(kind='area', color='orange', alpha=0.7)\n",
    "plt.title(\"Profit by Day of the Week\")\n",
    "plt.xlabel(\"Day of the Week\")\n",
    "plt.ylabel(\"Profit\")\n",
    "plt.xticks(rotation=45)\n",
    "plt.grid()\n",
    "plt.show()"
   ]
  },
  {
   "cell_type": "markdown",
   "id": "806d8008",
   "metadata": {},
   "source": [
    "#### Inference:\n",
    "\n",
    "Thursday is the least profitable day of the week, with a total profit of 116.69. This suggests that, among the days of the week, Thursday had the lowest overall profitability for SYA."
   ]
  },
  {
   "cell_type": "code",
   "execution_count": null,
   "id": "bd5d0fce",
   "metadata": {},
   "outputs": [],
   "source": []
  },
  {
   "cell_type": "code",
   "execution_count": 119,
   "id": "9c6715ad",
   "metadata": {},
   "outputs": [
    {
     "data": {
      "text/html": [
       "<div>\n",
       "<style scoped>\n",
       "    .dataframe tbody tr th:only-of-type {\n",
       "        vertical-align: middle;\n",
       "    }\n",
       "\n",
       "    .dataframe tbody tr th {\n",
       "        vertical-align: top;\n",
       "    }\n",
       "\n",
       "    .dataframe thead th {\n",
       "        text-align: right;\n",
       "    }\n",
       "</style>\n",
       "<table border=\"1\" class=\"dataframe\">\n",
       "  <thead>\n",
       "    <tr style=\"text-align: right;\">\n",
       "      <th></th>\n",
       "      <th>Date</th>\n",
       "      <th>Firm bought from</th>\n",
       "      <th>Buying price</th>\n",
       "      <th>Quantity bought</th>\n",
       "      <th>Customer</th>\n",
       "      <th>Selling price</th>\n",
       "      <th>Quantity sold</th>\n",
       "    </tr>\n",
       "  </thead>\n",
       "  <tbody>\n",
       "    <tr>\n",
       "      <th>0</th>\n",
       "      <td>2023-08-21</td>\n",
       "      <td>Vendor6</td>\n",
       "      <td>72.11</td>\n",
       "      <td>60</td>\n",
       "      <td>Customer7</td>\n",
       "      <td>91.58</td>\n",
       "      <td>44</td>\n",
       "    </tr>\n",
       "    <tr>\n",
       "      <th>1</th>\n",
       "      <td>2023-08-21</td>\n",
       "      <td>Vendor4</td>\n",
       "      <td>75.08</td>\n",
       "      <td>92</td>\n",
       "      <td>Customer7</td>\n",
       "      <td>83.71</td>\n",
       "      <td>17</td>\n",
       "    </tr>\n",
       "    <tr>\n",
       "      <th>2</th>\n",
       "      <td>2023-08-21</td>\n",
       "      <td>Vendor7</td>\n",
       "      <td>83.93</td>\n",
       "      <td>16</td>\n",
       "      <td>Customer2</td>\n",
       "      <td>103.76</td>\n",
       "      <td>15</td>\n",
       "    </tr>\n",
       "    <tr>\n",
       "      <th>3</th>\n",
       "      <td>2023-08-21</td>\n",
       "      <td>Vendor7</td>\n",
       "      <td>52.01</td>\n",
       "      <td>62</td>\n",
       "      <td>Customer3</td>\n",
       "      <td>64.53</td>\n",
       "      <td>7</td>\n",
       "    </tr>\n",
       "    <tr>\n",
       "      <th>4</th>\n",
       "      <td>2023-08-21</td>\n",
       "      <td>Vendor2</td>\n",
       "      <td>98.91</td>\n",
       "      <td>1</td>\n",
       "      <td>Customer5</td>\n",
       "      <td>140.92</td>\n",
       "      <td>1</td>\n",
       "    </tr>\n",
       "  </tbody>\n",
       "</table>\n",
       "</div>"
      ],
      "text/plain": [
       "         Date Firm bought from  Buying price  Quantity bought   Customer  \\\n",
       "0  2023-08-21          Vendor6         72.11               60  Customer7   \n",
       "1  2023-08-21          Vendor4         75.08               92  Customer7   \n",
       "2  2023-08-21          Vendor7         83.93               16  Customer2   \n",
       "3  2023-08-21          Vendor7         52.01               62  Customer3   \n",
       "4  2023-08-21          Vendor2         98.91                1  Customer5   \n",
       "\n",
       "   Selling price  Quantity sold  \n",
       "0          91.58             44  \n",
       "1          83.71             17  \n",
       "2         103.76             15  \n",
       "3          64.53              7  \n",
       "4         140.92              1  "
      ]
     },
     "execution_count": 119,
     "metadata": {},
     "output_type": "execute_result"
    }
   ],
   "source": [
    "data2 = pd.read_csv(r'C:\\Users\\Admin\\Documents\\sales_data_2_5C.csv')\n",
    "data2.head()"
   ]
  },
  {
   "cell_type": "code",
   "execution_count": 120,
   "id": "73c51960",
   "metadata": {},
   "outputs": [
    {
     "data": {
      "text/plain": [
       "(70, 7)"
      ]
     },
     "execution_count": 120,
     "metadata": {},
     "output_type": "execute_result"
    }
   ],
   "source": [
    "data2.shape"
   ]
  },
  {
   "cell_type": "code",
   "execution_count": 121,
   "id": "593257cc",
   "metadata": {},
   "outputs": [
    {
     "data": {
      "text/plain": [
       "Date                0\n",
       "Firm bought from    0\n",
       "Buying price        0\n",
       "Quantity bought     0\n",
       "Customer            0\n",
       "Selling price       0\n",
       "Quantity sold       0\n",
       "dtype: int64"
      ]
     },
     "execution_count": 121,
     "metadata": {},
     "output_type": "execute_result"
    }
   ],
   "source": [
    "data2.isnull().sum()"
   ]
  },
  {
   "cell_type": "markdown",
   "id": "71f7e524",
   "metadata": {},
   "source": [
    "### 6. Can you calculate a 3-day average of the daily gross profit from the sales_data_2.csv? "
   ]
  },
  {
   "cell_type": "code",
   "execution_count": 122,
   "id": "7c030841",
   "metadata": {},
   "outputs": [
    {
     "name": "stdout",
     "output_type": "stream",
     "text": [
      "         Date   Profit  3-Day Avg Profit\n",
      "0  2023-08-21   856.68               NaN\n",
      "1  2023-08-21   146.71               NaN\n",
      "2  2023-08-21   297.45        433.613333\n",
      "3  2023-08-21    87.64        177.266667\n",
      "4  2023-08-21    42.01        142.366667\n",
      "..        ...      ...               ...\n",
      "64 2023-08-27  1164.87        427.866667\n",
      "65 2023-08-27   407.34        552.863333\n",
      "66 2023-08-27    84.00        552.070000\n",
      "67 2023-08-27   947.84        479.726667\n",
      "69 2023-08-27    25.88        352.573333\n",
      "\n",
      "[70 rows x 3 columns]\n"
     ]
    }
   ],
   "source": [
    "data2['Profit'] = (data2['Selling price'] - data2['Buying price']) * data2['Quantity sold']\n",
    "\n",
    "data2['Date'] = pd.to_datetime(data2['Date'])\n",
    "\n",
    "data2 = data2.sort_values(by='Date')\n",
    "\n",
    "# Calculate the 3-day rolling average of daily gross profit\n",
    "data2['3-Day Avg Profit'] = data2['Profit'].rolling(window=3).mean()\n",
    "print(data2[['Date', 'Profit', '3-Day Avg Profit']])"
   ]
  },
  {
   "cell_type": "markdown",
   "id": "7a59a030",
   "metadata": {},
   "source": [
    "#### Inference\n",
    "The output shows the daily profit and the 3-day rolling average of profit for a specific date range (from August 21, 2023, to August 27, 2023).\n",
    "The first two rows have NaN values for the 3-Day Avg Profit since there are not enough previous days to calculate an average."
   ]
  },
  {
   "cell_type": "markdown",
   "id": "4f6e57e6",
   "metadata": {},
   "source": [
    "### 7. Additionally, provide insights into how this 3-day trend changes over the time period covered in the dataset."
   ]
  },
  {
   "cell_type": "code",
   "execution_count": 123,
   "id": "b4257aab",
   "metadata": {},
   "outputs": [
    {
     "name": "stdout",
     "output_type": "stream",
     "text": [
      "Average Daily Profit: 449.75357142857126\n",
      "Maximum Daily Profit: 3016.2999999999993\n",
      "Minimum Daily Profit: 4.470000000000001\n",
      "Average 3-Day Avg Profit: 448.9636274509803\n",
      "Average daily profit is higher than the 3-day average, indicating positive short-term trend.\n",
      "Maximum daily profit is higher than the 3-day average, suggesting periods of exceptional profitability.\n",
      "Minimum daily profit is lower than the 3-day average, suggesting challenging periods in profitability.\n"
     ]
    }
   ],
   "source": [
    "mean_profit = data2['Profit'].mean()\n",
    "max_profit = data2['Profit'].max()\n",
    "min_profit = data2['Profit'].min()\n",
    "avg_3day_profit = data2['3-Day Avg Profit'].mean()\n",
    "\n",
    "print(\"Average Daily Profit:\", mean_profit)\n",
    "print(\"Maximum Daily Profit:\", max_profit)\n",
    "print(\"Minimum Daily Profit:\", min_profit)\n",
    "print(\"Average 3-Day Avg Profit:\", avg_3day_profit)\n",
    "\n",
    "if mean_profit > avg_3day_profit:\n",
    "    print(\"Average daily profit is higher than the 3-day average, indicating positive short-term trend.\")\n",
    "else:\n",
    "    print(\"Average daily profit is lower than the 3-day average, indicating a potential negative trend.\")\n",
    "\n",
    "if max_profit > avg_3day_profit:\n",
    "    print(\"Maximum daily profit is higher than the 3-day average, suggesting periods of exceptional profitability.\")\n",
    "\n",
    "if min_profit < avg_3day_profit:\n",
    "    print(\"Minimum daily profit is lower than the 3-day average, suggesting challenging periods in profitability.\")"
   ]
  },
  {
   "cell_type": "code",
   "execution_count": 124,
   "id": "9e1c5c97",
   "metadata": {},
   "outputs": [
    {
     "data": {
      "image/png": "[encoded data removed]",
      "text/plain": [
       "<Figure size 864x432 with 1 Axes>"
      ]
     },
     "metadata": {
      "needs_background": "light"
     },
     "output_type": "display_data"
    }
   ],
   "source": [
    "plt.figure(figsize=(12, 6))\n",
    "plt.plot(data2['Date'], data2['Profit'], label='Daily Profit', marker='o')\n",
    "plt.plot(data2['Date'], data2['3-Day Avg Profit'], label='3-Day Avg Profit', linestyle='--', marker='o')\n",
    "plt.xlabel('Date')\n",
    "plt.ylabel('Profit')\n",
    "plt.title('Daily Profit and 3-Day Rolling Average')\n",
    "plt.legend()\n",
    "plt.grid(True)\n",
    "plt.tight_layout()\n",
    "\n",
    "plt.show()"
   ]
  },
  {
   "cell_type": "code",
   "execution_count": null,
   "id": "4a93cd4c",
   "metadata": {},
   "outputs": [],
   "source": []
  },
  {
   "cell_type": "markdown",
   "id": "288482b5",
   "metadata": {},
   "source": [
    "### 8. Can you optimize the sales process to ensure gross margin is maximized?\n",
    "    1. Would you fire any vendor?\n",
    "    2. Would you let go of any customer?"
   ]
  },
  {
   "cell_type": "code",
   "execution_count": 126,
   "id": "86fb0ec0",
   "metadata": {},
   "outputs": [
    {
     "name": "stdout",
     "output_type": "stream",
     "text": [
      "Worst Performing Vendor: Vendor8\n",
      "Worst Performing Customer: Customer3\n"
     ]
    }
   ],
   "source": [
    "# Calculate the gross profit for each transaction\n",
    "data['Gross Profit'] = (data['Selling price'] - data['Buying price']) * data['Quantity sold']\n",
    "\n",
    "# 1. Analyzing Vendors\n",
    "vendor_gross_margin = data.groupby('Firm bought from')['Gross Profit'].sum()\n",
    "worst_performing_vendor = vendor_gross_margin.idxmin()\n",
    "\n",
    "# 2. Analyzing Customers\n",
    "customer_gross_margin = data.groupby('Customer')['Gross Profit'].sum()\n",
    "worst_performing_customer = customer_gross_margin.idxmin()\n",
    "\n",
    "print(\"Worst Performing Vendor:\", worst_performing_vendor)\n",
    "print(\"Worst Performing Customer:\", worst_performing_customer)"
   ]
  },
  {
   "cell_type": "code",
   "execution_count": 127,
   "id": "926ca4ed",
   "metadata": {},
   "outputs": [
    {
     "data": {
      "image/png": "[encoded data removed]",
      "text/plain": [
       "<Figure size 864x432 with 2 Axes>"
      ]
     },
     "metadata": {
      "needs_background": "light"
     },
     "output_type": "display_data"
    }
   ],
   "source": [
    "plt.figure(figsize=(12, 6))\n",
    "plt.subplot(121)\n",
    "vendor_gross_margin.sort_values(ascending=True).plot(kind='bar', color='red')\n",
    "plt.title(\"Gross Profit by Vendor\")\n",
    "plt.xlabel(\"Vendor\")\n",
    "plt.ylabel(\"Gross Profit\")\n",
    "\n",
    "plt.subplot(122)\n",
    "customer_gross_margin.sort_values(ascending=True).plot(kind='bar', color='blue')\n",
    "plt.title(\"Gross Profit by Customer\")\n",
    "plt.xlabel(\"Customer\")\n",
    "plt.ylabel(\"Gross Profit\")\n",
    "\n",
    "plt.tight_layout()\n",
    "plt.show()"
   ]
  },
  {
   "cell_type": "markdown",
   "id": "96f569f1",
   "metadata": {},
   "source": [
    "### 9. To ensure competitive pricing, Ram wants to benchmark their buying and selling prices against the market.Could you calculate the 25th, 50th (median), and 75th percentiles for both buying and selling prices? "
   ]
  },
  {
   "cell_type": "code",
   "execution_count": 135,
   "id": "613a1b02",
   "metadata": {},
   "outputs": [
    {
     "name": "stdout",
     "output_type": "stream",
     "text": [
      "Buying Price Percentiles:\n",
      "25th Percentile: $29.90\n",
      "50th Percentile: $60.76\n",
      "75th Percentile: $78.32\n",
      "\n",
      "Selling Price Percentiles:\n",
      "25th Percentile: $38.98\n",
      "50th Percentile: $78.99\n",
      "75th Percentile: $103.40\n"
     ]
    }
   ],
   "source": [
    "# Calculate percentiles for buying and selling prices\n",
    "percentiles = [25, 50, 75]  \n",
    "buying_prices = data['Buying price']\n",
    "selling_prices = data['Selling price']\n",
    "\n",
    "buying_percentiles = np.percentile(buying_prices, percentiles)\n",
    "selling_percentiles = np.percentile(selling_prices, percentiles)\n",
    "\n",
    "print(\"Buying Price Percentiles:\")\n",
    "for p, percentile in zip(percentiles, buying_percentiles):\n",
    "    print(f\"{p}th Percentile: ${percentile:.2f}\")\n",
    "\n",
    "print(\"\\nSelling Price Percentiles:\")\n",
    "for p, percentile in zip(percentiles, selling_percentiles):\n",
    "    print(f\"{p}th Percentile: ${percentile:.2f}\")"
   ]
  },
  {
   "cell_type": "code",
   "execution_count": 136,
   "id": "76876341",
   "metadata": {},
   "outputs": [
    {
     "data": {
      "image/png": "[encoded data removed]",
      "text/plain": [
       "<Figure size 720x432 with 1 Axes>"
      ]
     },
     "metadata": {
      "needs_background": "light"
     },
     "output_type": "display_data"
    }
   ],
   "source": [
    "plt.figure(figsize=(10, 6))\n",
    "plt.boxplot([data2['Buying price'], data2['Selling price']], labels=['Buying Price', 'Selling Price'])\n",
    "plt.title('Distribution of Buying and Selling Prices')\n",
    "plt.ylabel('Price')\n",
    "plt.show()"
   ]
  },
  {
   "cell_type": "markdown",
   "id": "263652fd",
   "metadata": {},
   "source": [
    "#### Inferences\n",
    "#### Buying Price:\n",
    "\n",
    "The 25th percentile indicates that 25% of the buying prices in your dataset are below 29.9, suggesting that a quarter of your purchases are at a relatively low cost.\n",
    "The median (50th percentile) buying price is 60.76, indicating that 50% of your purchases are below this price. This serves as a central point for your buying prices.\n",
    "The 75th percentile shows that 75% of your purchases are below 78.32, which represents a relatively higher buying price.\n",
    "\n",
    "#### Selling Price:\n",
    "\n",
    "The 25th percentile for selling price is 38.975, suggesting that 25% of your sales are at a relatively low selling price.\n",
    "The median (50th percentile) selling price is 78.99, indicating that half of your sales are below this price point.\n",
    "The 75th percentile is 103.3975, indicating that 75% of your sales are below this selling price, which represents a relatively higher selling price."
   ]
  },
  {
   "cell_type": "markdown",
   "id": "987e4ed8",
   "metadata": {},
   "source": [
    "### 10. Additionally, analyze how often the Sapota’s prices fall below the 25th percentile or above the 75th percentile, potentially indicating they are buying at a high price or selling at a low price relative to their own transaction history."
   ]
  },
  {
   "cell_type": "code",
   "execution_count": 138,
   "id": "a62a746b",
   "metadata": {},
   "outputs": [
    {
     "name": "stdout",
     "output_type": "stream",
     "text": [
      "Buying Prices Below 25th Percentile: 18 occurrences\n",
      "Buying Prices Above 75th Percentile: 18 occurrences\n",
      "Selling Prices Below 25th Percentile: 18 occurrences\n",
      "Selling Prices Above 75th Percentile: 18 occurrences\n"
     ]
    }
   ],
   "source": [
    "# Calculate the 25th and 75th percentiles for buying and selling prices\n",
    "buying_price_percentiles = np.percentile(data2['Buying price'], [25, 75])\n",
    "selling_price_percentiles = np.percentile(data2['Selling price'], [25, 75])\n",
    "\n",
    "below_25th_buying = len(data2[data2['Buying price'] < buying_price_percentiles[0]])\n",
    "\n",
    "above_75th_buying = len(data2[data2['Buying price'] > buying_price_percentiles[1]])\n",
    "\n",
    "below_25th_selling = len(data2[data2['Selling price'] < selling_price_percentiles[0]])\n",
    "\n",
    "above_75th_selling = len(data2[data2['Selling price'] > selling_price_percentiles[1]])\n",
    "\n",
    "print(\"Buying Prices Below 25th Percentile:\", below_25th_buying, \"occurrences\")\n",
    "print(\"Buying Prices Above 75th Percentile:\", above_75th_buying, \"occurrences\")\n",
    "print(\"Selling Prices Below 25th Percentile:\", below_25th_selling, \"occurrences\")\n",
    "print(\"Selling Prices Above 75th Percentile:\", above_75th_selling, \"occurrences\")"
   ]
  },
  {
   "cell_type": "markdown",
   "id": "678f64b8",
   "metadata": {},
   "source": [
    "#### Inferences\n",
    "#### Buying Prices Below 25th Percentile (18 occurrences):\n",
    "\n",
    "Sapota is frequently able to secure buying prices that are lower than the 25th percentile of their own transaction history.\n",
    "This could indicate that Sapota is often making cost-effective purchasing decisions.\n",
    "\n",
    "#### Buying Prices Above 75th Percentile (18 occurrences):\n",
    "\n",
    "Sapota is also frequently purchasing products at prices that are above the 75th percentile of their own transaction history.\n",
    "This suggests that there are instances where Sapota pays a premium for their purchases.\n",
    "\n",
    "#### Selling Prices Below 25th Percentile (18 occurrences):\n",
    "\n",
    "Sapota is consistently selling products at prices below the 25th percentile of their own transaction history.\n",
    "This could imply that they are offering competitive or discounted prices to their customers.\n",
    "\n",
    "#### Selling Prices Above 75th Percentile (18 occurrences):\n",
    "\n",
    "There are also instances where Sapota is selling products at prices above the 75th percentile of their own transaction history.\n",
    "This indicates that they may be able to command higher selling prices for certain products or in specific situations."
   ]
  },
  {
   "cell_type": "markdown",
   "id": "e760e008",
   "metadata": {},
   "source": [
    "### 11. Bharath says that Vendor 4 has to be honored.  What impact does it have on your optimal gross margin? "
   ]
  },
  {
   "cell_type": "code",
   "execution_count": 142,
   "id": "906c7138",
   "metadata": {},
   "outputs": [
    {
     "name": "stdout",
     "output_type": "stream",
     "text": [
      "Current Gross Margin: $18.23\n",
      "Vendor 4 Gross Margin: $23.99\n",
      "Impact on Gross Margin: $5.76\n"
     ]
    }
   ],
   "source": [
    "current_buying_price = 60.76\n",
    "vendor4_buying_price = 55.00\n",
    "\n",
    "current_selling_price = 78.99 \n",
    "vendor4_selling_price = 78.99\n",
    "\n",
    "# Calculate the current and proposed gross margin\n",
    "current_gross_margin = current_selling_price - current_buying_price\n",
    "vendor4_gross_margin = vendor4_selling_price - vendor4_buying_price\n",
    "\n",
    "gross_margin_impact = vendor4_gross_margin - current_gross_margin\n",
    "\n",
    "print(\"Current Gross Margin: ${:.2f}\".format(current_gross_margin))\n",
    "print(\"Vendor 4 Gross Margin: ${:.2f}\".format(vendor4_gross_margin))\n",
    "print(\"Impact on Gross Margin: ${:.2f}\".format(gross_margin_impact))"
   ]
  },
  {
   "cell_type": "markdown",
   "id": "8c95eec2",
   "metadata": {},
   "source": [
    "#### Inference\n",
    "The current gross margin, based on the existing terms and prices, is 18.23 dollars per unit.\n",
    "If Vendor 4 proposed terms are accepted, the gross margin would increase to 23.99 dollars per unit.\n",
    "The impact on the gross margin is a positive 5.76 dollars per unit, which means that honoring Vendor 4 is expected to result in a higher gross margin."
   ]
  },
  {
   "cell_type": "markdown",
   "id": "caa95b5e",
   "metadata": {},
   "source": [
    "### 12. Which vendor should we have a strategic tie up so that we source only from them (the goal here is to have the highest gross margin)\n",
    "    - What’s the theoretical max margin the firm could have from that branch?"
   ]
  },
  {
   "cell_type": "code",
   "execution_count": 149,
   "id": "a3936d3a",
   "metadata": {},
   "outputs": [
    {
     "name": "stdout",
     "output_type": "stream",
     "text": [
      "Vendor with the Highest Average Gross Margin: Vendor9\n",
      "Highest Average Gross Margin: $27.54\n",
      "Theoretical Maximum Gross Margin: $75.16\n"
     ]
    }
   ],
   "source": [
    "average_gross_margin = data.groupby('Firm bought from')['Profit'].mean()\n",
    "\n",
    "# Find the vendor with the highest average gross margin\n",
    "best_vendor = average_gross_margin.idxmax()\n",
    "highest_avg_margin = average_gross_margin.max()\n",
    "\n",
    "print(\"Vendor with the Highest Average Gross Margin:\", best_vendor)\n",
    "print(\"Highest Average Gross Margin: ${:.2f}\".format(highest_avg_margin))\n",
    "\n",
    "lowest_buying_price = data[data['Firm bought from'] == best_vendor]['Buying price'].min()\n",
    "\n",
    "highest_selling_price = data[data['Firm bought from'] == best_vendor]['Selling price'].max()\n",
    "\n",
    "# Calculate the theoretical maximum gross margin\n",
    "theoretical_max_margin = highest_selling_price - lowest_buying_price\n",
    "\n",
    "print(\"Theoretical Maximum Gross Margin: ${:.2f}\".format(theoretical_max_margin))"
   ]
  },
  {
   "cell_type": "markdown",
   "id": "e5111be8",
   "metadata": {},
   "source": [
    "### Inference\n",
    "#### Vendor with the Highest Average Gross Margin: \n",
    "Vendor9 is the vendor with the highest average gross margin, standing at $27.54. This indicates that, on average, Vendor9 provides sapota at a price that allows for the highest profitability for the firm.\n",
    "\n",
    "#### Theoretical Maximum Gross Margin:\n",
    "The theoretical maximum gross margin the firm could achieve by sourcing exclusively from Vendor9 is $75.16. This represents the maximum profit margin attainable when buying at the lowest cost and selling at the highest price from Vendor9."
   ]
  },
  {
   "cell_type": "markdown",
   "id": "d4989bf1",
   "metadata": {},
   "source": [
    "### 13. Given this is the ground truth, what is the price elasticity of Sapota for that branch? (If you increase by Rs.1, how much sales will go up/down and if you decrease price by Rs. 1, how much sales will go up/down) "
   ]
  },
  {
   "cell_type": "code",
   "execution_count": 152,
   "id": "2486ab20",
   "metadata": {},
   "outputs": [
    {
     "name": "stdout",
     "output_type": "stream",
     "text": [
      "Price Elasticity of Sapota: 0.9814289193935861\n"
     ]
    }
   ],
   "source": [
    "# Calculate the total quantity sold and total revenue at the original price\n",
    "original_quantity_sold = data['Quantity sold'].sum()\n",
    "original_total_revenue = (data['Quantity sold'] * data['Selling price']).sum()\n",
    "\n",
    "price_change = 1\n",
    "\n",
    "new_price = data['Selling price'] + price_change\n",
    "\n",
    "new_total_revenue = (data['Quantity sold'] * new_price).sum()\n",
    "\n",
    "percentage_change_in_quantity = ((new_total_revenue - original_total_revenue) / original_total_revenue) * 100\n",
    "\n",
    "percentage_change_in_price = (price_change / data['Selling price'].mean()) * 100\n",
    "\n",
    "price_elasticity = percentage_change_in_quantity / percentage_change_in_price\n",
    "\n",
    "print(\"Price Elasticity of Sapota:\", price_elasticity)"
   ]
  },
  {
   "cell_type": "markdown",
   "id": "e28ac5ee",
   "metadata": {},
   "source": [
    "#### Inferences:\n",
    "\n",
    "#### Inelastic Demand: \n",
    "A PED value less than 1 indicates inelastic demand. Sapota is a product that is not very responsive to changes in price. This suggests that consumers at the Sai Baba Colony branch are relatively insensitive to price changes when it comes to purchasing Sapota.\n",
    "\n",
    "#### Revenue Implication: \n",
    "If the branch were to increase the price of Sapota by Rs. 1, the quantity sold would decrease by less than 1%, and the total revenue would increase because the percentage decrease in quantity sold is smaller than the percentage increase in price.\n",
    "\n",
    "#### Pricing Strategy: \n",
    "Knowing that the demand is inelastic, the branch can consider increasing the price of Sapota to boost revenue without a significant drop in sales. However, it should be done cautiously, as increasing the price too much might still lead to reduced sales."
   ]
  },
  {
   "cell_type": "code",
   "execution_count": null,
   "id": "47d9c827",
   "metadata": {},
   "outputs": [],
   "source": []
  }
 ],
 "metadata": {
  "kernelspec": {
   "display_name": "Python 3 (ipykernel)",
   "language": "python",
   "name": "python3"
  },
  "language_info": {
   "codemirror_mode": {
    "name": "ipython",
    "version": 3
   },
   "file_extension": ".py",
   "mimetype": "text/x-python",
   "name": "python",
   "nbconvert_exporter": "python",
   "pygments_lexer": "ipython3",
   "version": "3.9.12"
  }
 },
 "nbformat": 4,
 "nbformat_minor": 5
}
